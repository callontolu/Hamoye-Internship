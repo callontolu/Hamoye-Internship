{
  "nbformat": 4,
  "nbformat_minor": 0,
  "metadata": {
    "colab": {
      "provenance": []
    },
    "kernelspec": {
      "name": "python3",
      "display_name": "Python 3"
    },
    "language_info": {
      "name": "python"
    }
  },
  "cells": [
    {
      "cell_type": "code",
      "execution_count": 1,
      "metadata": {
        "colab": {
          "base_uri": "https://localhost:8080/"
        },
        "id": "k3tNLYn6uX1N",
        "outputId": "6320524f-87fa-48aa-c3b2-2cf3745e53b1"
      },
      "outputs": [
        {
          "output_type": "stream",
          "name": "stdout",
          "text": [
            "Mounted at /content/drive\n"
          ]
        }
      ],
      "source": [
        "from google.colab import drive\n",
        "drive.mount('/content/drive')"
      ]
    },
    {
      "cell_type": "code",
      "source": [
        "import pandas as pd\n",
        "import numpy as np"
      ],
      "metadata": {
        "id": "38hF_aOzvDWu"
      },
      "execution_count": 2,
      "outputs": []
    },
    {
      "cell_type": "code",
      "source": [
        "df = pd.read_csv('/content/drive/MyDrive/FoodBalanceSheets_E_Africa_NOFLAG.csv', encoding = 'latin-1')\n",
        "print (df)"
      ],
      "metadata": {
        "colab": {
          "base_uri": "https://localhost:8080/"
        },
        "id": "Hs-gX0TGvtwJ",
        "outputId": "02977cf0-e503-4305-ede3-dea278a11147"
      },
      "execution_count": 3,
      "outputs": [
        {
          "output_type": "stream",
          "name": "stdout",
          "text": [
            "       Area Code      Area  Item Code           Item  Element Code  \\\n",
            "0              4   Algeria       2501     Population           511   \n",
            "1              4   Algeria       2501     Population          5301   \n",
            "2              4   Algeria       2901    Grand Total           664   \n",
            "3              4   Algeria       2901    Grand Total           674   \n",
            "4              4   Algeria       2901    Grand Total           684   \n",
            "...          ...       ...        ...            ...           ...   \n",
            "60938        181  Zimbabwe       2899  Miscellaneous          5142   \n",
            "60939        181  Zimbabwe       2899  Miscellaneous           645   \n",
            "60940        181  Zimbabwe       2899  Miscellaneous           664   \n",
            "60941        181  Zimbabwe       2899  Miscellaneous           674   \n",
            "60942        181  Zimbabwe       2899  Miscellaneous           684   \n",
            "\n",
            "                                      Element             Unit     Y2014  \\\n",
            "0               Total Population - Both sexes     1000 persons  38924.00   \n",
            "1                    Domestic supply quantity      1000 tonnes      0.00   \n",
            "2               Food supply (kcal/capita/day)  kcal/capita/day   3377.00   \n",
            "3      Protein supply quantity (g/capita/day)     g/capita/day     94.90   \n",
            "4          Fat supply quantity (g/capita/day)     g/capita/day     80.06   \n",
            "...                                       ...              ...       ...   \n",
            "60938                                    Food      1000 tonnes     42.00   \n",
            "60939     Food supply quantity (kg/capita/yr)               kg      3.06   \n",
            "60940           Food supply (kcal/capita/day)  kcal/capita/day      3.00   \n",
            "60941  Protein supply quantity (g/capita/day)     g/capita/day      0.10   \n",
            "60942      Fat supply quantity (g/capita/day)     g/capita/day      0.04   \n",
            "\n",
            "          Y2015     Y2016     Y2017     Y2018  \n",
            "0      39728.00  40551.00  41389.00  42228.00  \n",
            "1          0.00      0.00      0.00      0.00  \n",
            "2       3379.00   3372.00   3341.00   3322.00  \n",
            "3         94.35     94.72     92.82     91.83  \n",
            "4         79.36     77.40     80.19     77.28  \n",
            "...         ...       ...       ...       ...  \n",
            "60938     46.00     33.00     19.00     16.00  \n",
            "60939      3.33      2.35      1.33      1.08  \n",
            "60940      4.00      3.00      1.00      1.00  \n",
            "60941      0.11      0.08      0.04      0.04  \n",
            "60942      0.05      0.03      0.02      0.01  \n",
            "\n",
            "[60943 rows x 12 columns]\n"
          ]
        }
      ]
    },
    {
      "cell_type": "code",
      "source": [
        "sum_wine_2015_2018_production = df[df['Item'] == 'Wine'].groupby('Item')[['Y2015', 'Y2018']].sum()  # the Dataframe is Filtered to include only rows where the 'Item' column is equal to 'Wine\n",
        "                                                                                                    #groupby operation using the 'Item' column\n",
        "print(\"Total sum of Wine produced in 2015:\", sum_wine_2015_2018_production['Y2015'].values[0]) #this line of code will print the output of the total sume of wine produced in 2015\n",
        "print(\"Total sum of Wine produced in 2018:\", sum_wine_2015_2018_production['Y2018'].values[0]) #this line of code will print the output of the total sum of wine produced in 2018"
      ],
      "metadata": {
        "colab": {
          "base_uri": "https://localhost:8080/"
        },
        "id": "LjnF2L09xFnd",
        "outputId": "dc1d2e30-bbfb-4031-b0ce-8df71b6ba094"
      },
      "execution_count": 4,
      "outputs": [
        {
          "output_type": "stream",
          "name": "stdout",
          "text": [
            "Total sum of Wine produced in 2015: 4251.81\n",
            "Total sum of Wine produced in 2018: 4039.32\n"
          ]
        }
      ]
    },
    {
      "cell_type": "code",
      "source": [
        "selected_year_area = df[['Y2017', 'Area']]  #Selecting the 'Y2017' and 'Area' columns.\n",
        "grouped_area = selected_year_area.groupby('Area').sum().reset_index() #Performing  a groupby operation on the 'Area' column.\n",
        "grouped_area_sorted = grouped_area.sort_values(by='Y2017') #Sorting the results by the sum of 'Y2017' in ascending order.\n",
        "\n",
        "seventh_lowest = grouped_area_sorted.iloc[6]  # Indexing starts from 0\n",
        "area_with_seventh_lowest_sum_2017 = seventh_lowest['Area']\n",
        "\n",
        "print(\"Area with the 7th lowest sum in 2017:\", area_with_seventh_lowest_sum_2017)\n"
      ],
      "metadata": {
        "colab": {
          "base_uri": "https://localhost:8080/"
        },
        "id": "w_c5NC_C1kbk",
        "outputId": "189099c7-728f-46f0-9f13-ad8df54be11e"
      },
      "execution_count": 6,
      "outputs": [
        {
          "output_type": "stream",
          "name": "stdout",
          "text": [
            "Area with the 7th lowest sum in 2017: Guinea-Bissau\n"
          ]
        }
      ]
    },
    {
      "cell_type": "code",
      "source": [
        "sum_2017_processing = df[df['Element'] == 'Processing'].groupby('Element')['Y2017'].sum() # filter the dataframe to include only rows where 'Element'column is equal to 'Processing' then group by 'Element\n",
        "print(\"Total sum of 2017 Processing is:\", sum_2017_processing)"
      ],
      "metadata": {
        "colab": {
          "base_uri": "https://localhost:8080/"
        },
        "id": "Ez3pYN4u3IPV",
        "outputId": "499120d0-8925-43b9-ef24-a71858c1bb8b"
      },
      "execution_count": 7,
      "outputs": [
        {
          "output_type": "stream",
          "name": "stdout",
          "text": [
            "Total sum of 2017 Processing is: Element\n",
            "Processing    292836.0\n",
            "Name: Y2017, dtype: float64\n"
          ]
        }
      ]
    },
    {
      "cell_type": "code",
      "source": [
        "total_number_unique_countries = df['Area'].nunique() # count the number of unique values in the area which represent the country\n",
        "\n",
        "\n",
        "print(\"Total number of unique countries in the dataset:\", total_number_unique_countries) # Print the total number of unique countries in the dataset\n"
      ],
      "metadata": {
        "colab": {
          "base_uri": "https://localhost:8080/"
        },
        "id": "ICnrR1nw4bWJ",
        "outputId": "8af157ce-ea2e-478b-cf66-5061d22ec450"
      },
      "execution_count": 8,
      "outputs": [
        {
          "output_type": "stream",
          "name": "stdout",
          "text": [
            "Total number of unique countries in the dataset: 49\n"
          ]
        }
      ]
    },
    {
      "cell_type": "code",
      "source": [
        "sum_stock_variation = df[df['Element'] == 'Stock Variation'].groupby('Element')[['Y2014', 'Y2015', 'Y2016', 'Y2017', 'Y2018']].sum() #Filter the DataFrame to include only rows where the 'Element' column is equal to 'Stock Variation'\n",
        "#then a groupby operation is done using the 'Element' column.\n",
        "#the sum of the years were calculated 'Y2014', 'Y2015', 'Y2016', 'Y2017', and 'Y2018' columns for each group.\n",
        "\n",
        "year_heighest_sum = sum_stock_variation.idxmax(axis=1)[0] # Find the year with the highest sum of Stock Variation\n",
        "\n",
        "\n",
        "print(\"The Year with the highest sum of Stock Variation is:\", year_heighest_sum) ## Print the year with the highest sum of Stock Variation\n"
      ],
      "metadata": {
        "colab": {
          "base_uri": "https://localhost:8080/"
        },
        "id": "ONxv2l3l5J7T",
        "outputId": "f1f75a14-1ba8-4c85-90fa-13c15531cc0f"
      },
      "execution_count": 9,
      "outputs": [
        {
          "output_type": "stream",
          "name": "stdout",
          "text": [
            "The Year with the highest sum of Stock Variation is: Y2014\n"
          ]
        }
      ]
    },
    {
      "cell_type": "code",
      "source": [
        "total_protein_2015_Madagascar = df[(df['Area'] == 'Madagascar') & (df['Element'] == 'Protein supply quantity (g/capita/day)')]['Y2015'].sum()\n",
        "#This code filters the DataFrame to include only rows where the 'Area' column is 'Madagascar' and the 'Element' column is 'Protein supply quantity (g/capita/day)\n",
        "#Then, sums up the values from the 'Y2015' column for these rows,\n",
        "print(\"Total Protein supply in 2015 in Madagascar:\", total_protein_2015_Madagascar)\n",
        "# Print the total protein supply in 2015 in Madagascar\n"
      ],
      "metadata": {
        "colab": {
          "base_uri": "https://localhost:8080/"
        },
        "id": "rKN4oAMn6TX-",
        "outputId": "2ea558cd-d686-457f-972b-b6ac3e786e5c"
      },
      "execution_count": 10,
      "outputs": [
        {
          "output_type": "stream",
          "name": "stdout",
          "text": [
            "Total Protein supply in 2015 in Madagascar: 173.04999999999998\n"
          ]
        }
      ]
    },
    {
      "cell_type": "code",
      "source": [
        "missing_data2014 = df['Y2014'].isnull().sum()\n",
        "total_data2014 = df['Y2014'].shape[0]\n",
        "\n",
        "# Calculate percentage of missing data\n",
        "percentage_missing_2014 = (missing_data2014/total_data2014) * 100\n",
        "\n",
        "# Print the total data and percentage of missing data in 2014\n",
        "print(\"Total  missing data in 2014:\", missing_data2014)\n",
        "print(\"Percentage of 2014 missing:\", \"{:.3f}%\".format(percentage_missing_2014))\n"
      ],
      "metadata": {
        "colab": {
          "base_uri": "https://localhost:8080/"
        },
        "id": "-hq3yc7E72PA",
        "outputId": "80377193-0daa-4a14-bcd2-eeb848a27d9c"
      },
      "execution_count": 11,
      "outputs": [
        {
          "output_type": "stream",
          "name": "stdout",
          "text": [
            "Total  missing data in 2014: 1589\n",
            "Percentage of 2014 missing: 2.607%\n"
          ]
        }
      ]
    },
    {
      "cell_type": "code",
      "source": [
        "selected_year_area = df[['Y2017', 'Area']]\n",
        "grouped = selected_year_area.groupby('Area').sum()\n",
        "area_highestsum_2017 = grouped.idxmax()[0]\n",
        "\n",
        "print(\"Area with highest sum in 2017:\", area_highestsum_2017)\n"
      ],
      "metadata": {
        "colab": {
          "base_uri": "https://localhost:8080/"
        },
        "id": "6gYxE4iq8Ltz",
        "outputId": "2ea10f96-a630-42fd-f2a6-8b04af3d5a8f"
      },
      "execution_count": 12,
      "outputs": [
        {
          "output_type": "stream",
          "name": "stdout",
          "text": [
            "Area with highest sum in 2017: Nigeria\n"
          ]
        }
      ]
    },
    {
      "cell_type": "code",
      "source": [
        "\n",
        "correlation_with_element_code = {}\n",
        "\n",
        "\n",
        "for year_column in df.columns[df.columns.str.startswith('Y')]: ## Iterate over each year column\n",
        "    correlation = df['Element Code'].corr(df[year_column])\n",
        "    correlation_with_element_code[year_column] = correlation\n",
        "\n",
        "\n",
        "min_corr_year = min(correlation_with_element_code, key=correlation_with_element_code.get) ## Find the year with the minimum correlation coefficient\n",
        "min_corr_value = correlation_with_element_code[min_corr_year]\n",
        "\n",
        "print(\"Year with the least correlation with 'Element Code':\", min_corr_year)\n",
        "print(\"Correlation coefficient:\", min_corr_value)"
      ],
      "metadata": {
        "colab": {
          "base_uri": "https://localhost:8080/"
        },
        "id": "Hv7cUncJ8jKl",
        "outputId": "654216d5-5399-4a90-b541-9ff60e40ba68"
      },
      "execution_count": 13,
      "outputs": [
        {
          "output_type": "stream",
          "name": "stdout",
          "text": [
            "Year with the least correlation with 'Element Code': Y2016\n",
            "Correlation coefficient: 0.023443997584961424\n"
          ]
        }
      ]
    }
  ]
}