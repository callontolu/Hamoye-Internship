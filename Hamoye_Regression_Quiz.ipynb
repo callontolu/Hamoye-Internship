{
  "nbformat": 4,
  "nbformat_minor": 0,
  "metadata": {
    "colab": {
      "provenance": []
    },
    "kernelspec": {
      "name": "python3",
      "display_name": "Python 3"
    },
    "language_info": {
      "name": "python"
    }
  },
  "cells": [
    {
      "cell_type": "code",
      "execution_count": 1,
      "metadata": {
        "colab": {
          "base_uri": "https://localhost:8080/"
        },
        "id": "LhLhxMTFvf-_",
        "outputId": "fbc5be4a-2969-476c-8dc9-09b078ce18ce"
      },
      "outputs": [
        {
          "output_type": "stream",
          "name": "stdout",
          "text": [
            "Mounted at /content/drive\n"
          ]
        }
      ],
      "source": [
        "from google.colab import drive  #connecting google drive to colab\n",
        "drive.mount('/content/drive')"
      ]
    },
    {
      "cell_type": "code",
      "source": [
        "import pandas as pd         # Importing the necessary libraries for this task\n",
        "import numpy as np\n",
        "import seaborn as sns\n",
        "from sklearn.preprocessing import StandardScaler\n",
        "from sklearn.metrics import mean_squared_error, r2_score"
      ],
      "metadata": {
        "id": "-iTnr4PTv2VX"
      },
      "execution_count": 2,
      "outputs": []
    },
    {
      "cell_type": "code",
      "source": [
        "data = pd.read_csv('/content/drive/MyDrive/energydata_complete.csv')   #Loading of the dataset\n",
        "print (data)"
      ],
      "metadata": {
        "colab": {
          "base_uri": "https://localhost:8080/"
        },
        "id": "I0KzTW1Iv_EK",
        "outputId": "5b0b126d-d973-45f7-8f39-ca491f79f9ab"
      },
      "execution_count": 3,
      "outputs": [
        {
          "output_type": "stream",
          "name": "stdout",
          "text": [
            "                   date  Appliances  lights         T1       RH_1         T2  \\\n",
            "0      11/01/2016 17:00          60      30  19.890000  47.596667  19.200000   \n",
            "1      11/01/2016 17:10          60      30  19.890000  46.693333  19.200000   \n",
            "2      11/01/2016 17:20          50      30  19.890000  46.300000  19.200000   \n",
            "3      11/01/2016 17:30          50      40  19.890000  46.066667  19.200000   \n",
            "4      11/01/2016 17:40          60      40  19.890000  46.333333  19.200000   \n",
            "...                 ...         ...     ...        ...        ...        ...   \n",
            "19730  27/05/2016 17:20         100       0  25.566667  46.560000  25.890000   \n",
            "19731  27/05/2016 17:30          90       0  25.500000  46.500000  25.754000   \n",
            "19732  27/05/2016 17:40         270      10  25.500000  46.596667  25.628571   \n",
            "19733  27/05/2016 17:50         420      10  25.500000  46.990000  25.414000   \n",
            "19734  27/05/2016 18:00         430      10  25.500000  46.600000  25.264286   \n",
            "\n",
            "            RH_2         T3       RH_3         T4  ...         T9     RH_9  \\\n",
            "0      44.790000  19.790000  44.730000  19.000000  ...  17.033333  45.5300   \n",
            "1      44.722500  19.790000  44.790000  19.000000  ...  17.066667  45.5600   \n",
            "2      44.626667  19.790000  44.933333  18.926667  ...  17.000000  45.5000   \n",
            "3      44.590000  19.790000  45.000000  18.890000  ...  17.000000  45.4000   \n",
            "4      44.530000  19.790000  45.000000  18.890000  ...  17.000000  45.4000   \n",
            "...          ...        ...        ...        ...  ...        ...      ...   \n",
            "19730  42.025714  27.200000  41.163333  24.700000  ...  23.200000  46.7900   \n",
            "19731  42.080000  27.133333  41.223333  24.700000  ...  23.200000  46.7900   \n",
            "19732  42.768571  27.050000  41.690000  24.700000  ...  23.200000  46.7900   \n",
            "19733  43.036000  26.890000  41.290000  24.700000  ...  23.200000  46.8175   \n",
            "19734  42.971429  26.823333  41.156667  24.700000  ...  23.200000  46.8450   \n",
            "\n",
            "       T_out  Press_mm_hg     RH_out  Windspeed  Visibility  Tdewpoint  \\\n",
            "0       6.60        733.5  92.000000   7.000000   63.000000        5.3   \n",
            "1       6.48        733.6  92.000000   6.666667   59.166667        5.2   \n",
            "2       6.37        733.7  92.000000   6.333333   55.333333        5.1   \n",
            "3       6.25        733.8  92.000000   6.000000   51.500000        5.0   \n",
            "4       6.13        733.9  92.000000   5.666667   47.666667        4.9   \n",
            "...      ...          ...        ...        ...         ...        ...   \n",
            "19730  22.70        755.2  55.666667   3.333333   23.666667       13.3   \n",
            "19731  22.60        755.2  56.000000   3.500000   24.500000       13.3   \n",
            "19732  22.50        755.2  56.333333   3.666667   25.333333       13.3   \n",
            "19733  22.30        755.2  56.666667   3.833333   26.166667       13.2   \n",
            "19734  22.20        755.2  57.000000   4.000000   27.000000       13.2   \n",
            "\n",
            "             rv1        rv2  \n",
            "0      13.275433  13.275433  \n",
            "1      18.606195  18.606195  \n",
            "2      28.642668  28.642668  \n",
            "3      45.410390  45.410390  \n",
            "4      10.084097  10.084097  \n",
            "...          ...        ...  \n",
            "19730  43.096812  43.096812  \n",
            "19731  49.282940  49.282940  \n",
            "19732  29.199117  29.199117  \n",
            "19733   6.322784   6.322784  \n",
            "19734  34.118851  34.118851  \n",
            "\n",
            "[19735 rows x 29 columns]\n"
          ]
        }
      ]
    },
    {
      "cell_type": "code",
      "source": [
        "simple_linear_reg_df = data[['T2', 'T6']].sample(15, random_state=2)"
      ],
      "metadata": {
        "id": "TAEJ4fkD1wl7"
      },
      "execution_count": 4,
      "outputs": []
    },
    {
      "cell_type": "code",
      "source": [
        "from sklearn.preprocessing import MinMaxScaler    ##Firstly, we normalise our dataset to a common scale using the min max scaler\n",
        "scaler = MinMaxScaler()"
      ],
      "metadata": {
        "id": "EE5Wh03F2bfT"
      },
      "execution_count": 5,
      "outputs": []
    },
    {
      "cell_type": "code",
      "source": [
        "sns.regplot(x=\"T2\", y=\"T6\",\n",
        "            data=simple_linear_reg_df)"
      ],
      "metadata": {
        "colab": {
          "base_uri": "https://localhost:8080/",
          "height": 467
        },
        "id": "f-0UsLtC3S2p",
        "outputId": "d861bec4-7602-4cb7-f543-e3905f5a14ae"
      },
      "execution_count": 7,
      "outputs": [
        {
          "output_type": "execute_result",
          "data": {
            "text/plain": [
              "<Axes: xlabel='T2', ylabel='T6'>"
            ]
          },
          "metadata": {},
          "execution_count": 7
        },
        {
          "output_type": "display_data",
          "data": {
            "text/plain": [
              "<Figure size 640x480 with 1 Axes>"
            ],
            "image/png": "[encoded data removed]"
          },
          "metadata": {}
        }
      ]
    },
    {
      "cell_type": "code",
      "source": [
        "from sklearn.preprocessing import MinMaxScaler    ##Firstly, we normalise our dataset to a common scale using the min max scaler\n",
        "scaler = MinMaxScaler()"
      ],
      "metadata": {
        "id": "q7CJriiD3cDm"
      },
      "execution_count": 8,
      "outputs": []
    },
    {
      "cell_type": "code",
      "source": [
        "normalised_data = pd.DataFrame(scaler.fit_transform(data), columns=data.columns)"
      ],
      "metadata": {
        "id": "OUhP-U5z25d4"
      },
      "execution_count": null,
      "outputs": []
    },
    {
      "cell_type": "code",
      "source": [
        "x = data.drop(columns=['date', 'lights', 'Appliances'])\n",
        "y = data['Appliances']"
      ],
      "metadata": {
        "id": "MGwWZ3o14K4H"
      },
      "execution_count": 10,
      "outputs": []
    },
    {
      "cell_type": "code",
      "source": [
        "from sklearn.model_selection import train_test_split        #splitting dataset into the training and testing dataset."
      ],
      "metadata": {
        "id": "kkYne6KE4jXE"
      },
      "execution_count": 11,
      "outputs": []
    },
    {
      "cell_type": "code",
      "source": [
        "x_train, x_test, y_train, y_test = train_test_split(x, y,\n",
        "test_size=0.3, random_state=42)"
      ],
      "metadata": {
        "id": "r8-NC7ZO4oV2"
      },
      "execution_count": 12,
      "outputs": []
    },
    {
      "cell_type": "code",
      "source": [
        "from sklearn.preprocessing import MinMaxScaler    # normalising the dataset to a common scale using the min max scaler\n",
        "scaler = MinMaxScaler()\n",
        "x_train_scaled =scaler.fit_transform (x_train)\n",
        "x_test_scaled =scaler.transform (x_test)"
      ],
      "metadata": {
        "id": "VIDbgxFT4u5W"
      },
      "execution_count": 13,
      "outputs": []
    },
    {
      "cell_type": "code",
      "source": [
        "from sklearn.linear_model import LinearRegression"
      ],
      "metadata": {
        "id": "9SeqmDyj5CVd"
      },
      "execution_count": 14,
      "outputs": []
    },
    {
      "cell_type": "code",
      "source": [
        "model = LinearRegression()\n",
        "model.fit(x_train_scaled, y_train)  #fit the model to the training dataset"
      ],
      "metadata": {
        "colab": {
          "base_uri": "https://localhost:8080/",
          "height": 74
        },
        "id": "H3l9MWjs5HCZ",
        "outputId": "9806231a-ef55-4197-faf4-f1afadbf0a16"
      },
      "execution_count": 15,
      "outputs": [
        {
          "output_type": "execute_result",
          "data": {
            "text/plain": [
              "LinearRegression()"
            ],
            "text/html": [
              "<style>#sk-container-id-1 {color: black;background-color: white;}#sk-container-id-1 pre{padding: 0;}#sk-container-id-1 div.sk-toggleable {background-color: white;}#sk-container-id-1 label.sk-toggleable__label {cursor: pointer;display: block;width: 100%;margin-bottom: 0;padding: 0.3em;box-sizing: border-box;text-align: center;}#sk-container-id-1 label.sk-toggleable__label-arrow:before {content: \"▸\";float: left;margin-right: 0.25em;color: #696969;}#sk-container-id-1 label.sk-toggleable__label-arrow:hover:before {color: black;}#sk-container-id-1 div.sk-estimator:hover label.sk-toggleable__label-arrow:before {color: black;}#sk-container-id-1 div.sk-toggleable__content {max-height: 0;max-width: 0;overflow: hidden;text-align: left;background-color: #f0f8ff;}#sk-container-id-1 div.sk-toggleable__content pre {margin: 0.2em;color: black;border-radius: 0.25em;background-color: #f0f8ff;}#sk-container-id-1 input.sk-toggleable__control:checked~div.sk-toggleable__content {max-height: 200px;max-width: 100%;overflow: auto;}#sk-container-id-1 input.sk-toggleable__control:checked~label.sk-toggleable__label-arrow:before {content: \"▾\";}#sk-container-id-1 div.sk-estimator input.sk-toggleable__control:checked~label.sk-toggleable__label {background-color: #d4ebff;}#sk-container-id-1 div.sk-label input.sk-toggleable__control:checked~label.sk-toggleable__label {background-color: #d4ebff;}#sk-container-id-1 input.sk-hidden--visually {border: 0;clip: rect(1px 1px 1px 1px);clip: rect(1px, 1px, 1px, 1px);height: 1px;margin: -1px;overflow: hidden;padding: 0;position: absolute;width: 1px;}#sk-container-id-1 div.sk-estimator {font-family: monospace;background-color: #f0f8ff;border: 1px dotted black;border-radius: 0.25em;box-sizing: border-box;margin-bottom: 0.5em;}#sk-container-id-1 div.sk-estimator:hover {background-color: #d4ebff;}#sk-container-id-1 div.sk-parallel-item::after {content: \"\";width: 100%;border-bottom: 1px solid gray;flex-grow: 1;}#sk-container-id-1 div.sk-label:hover label.sk-toggleable__label {background-color: #d4ebff;}#sk-container-id-1 div.sk-serial::before {content: \"\";position: absolute;border-left: 1px solid gray;box-sizing: border-box;top: 0;bottom: 0;left: 50%;z-index: 0;}#sk-container-id-1 div.sk-serial {display: flex;flex-direction: column;align-items: center;background-color: white;padding-right: 0.2em;padding-left: 0.2em;position: relative;}#sk-container-id-1 div.sk-item {position: relative;z-index: 1;}#sk-container-id-1 div.sk-parallel {display: flex;align-items: stretch;justify-content: center;background-color: white;position: relative;}#sk-container-id-1 div.sk-item::before, #sk-container-id-1 div.sk-parallel-item::before {content: \"\";position: absolute;border-left: 1px solid gray;box-sizing: border-box;top: 0;bottom: 0;left: 50%;z-index: -1;}#sk-container-id-1 div.sk-parallel-item {display: flex;flex-direction: column;z-index: 1;position: relative;background-color: white;}#sk-container-id-1 div.sk-parallel-item:first-child::after {align-self: flex-end;width: 50%;}#sk-container-id-1 div.sk-parallel-item:last-child::after {align-self: flex-start;width: 50%;}#sk-container-id-1 div.sk-parallel-item:only-child::after {width: 0;}#sk-container-id-1 div.sk-dashed-wrapped {border: 1px dashed gray;margin: 0 0.4em 0.5em 0.4em;box-sizing: border-box;padding-bottom: 0.4em;background-color: white;}#sk-container-id-1 div.sk-label label {font-family: monospace;font-weight: bold;display: inline-block;line-height: 1.2em;}#sk-container-id-1 div.sk-label-container {text-align: center;}#sk-container-id-1 div.sk-container {/* jupyter's `normalize.less` sets `[hidden] { display: none; }` but bootstrap.min.css set `[hidden] { display: none !important; }` so we also need the `!important` here to be able to override the default hidden behavior on the sphinx rendered scikit-learn.org. See: https://github.com/scikit-learn/scikit-learn/issues/21755 */display: inline-block !important;position: relative;}#sk-container-id-1 div.sk-text-repr-fallback {display: none;}</style><div id=\"sk-container-id-1\" class=\"sk-top-container\"><div class=\"sk-text-repr-fallback\"><pre>LinearRegression()</pre><b>In a Jupyter environment, please rerun this cell to show the HTML representation or trust the notebook. <br />On GitHub, the HTML representation is unable to render, please try loading this page with nbviewer.org.</b></div><div class=\"sk-container\" hidden><div class=\"sk-item\"><div class=\"sk-estimator sk-toggleable\"><input class=\"sk-toggleable__control sk-hidden--visually\" id=\"sk-estimator-id-1\" type=\"checkbox\" checked><label for=\"sk-estimator-id-1\" class=\"sk-toggleable__label sk-toggleable__label-arrow\">LinearRegression</label><div class=\"sk-toggleable__content\"><pre>LinearRegression()</pre></div></div></div></div></div>"
            ]
          },
          "metadata": {},
          "execution_count": 15
        }
      ]
    },
    {
      "cell_type": "code",
      "source": [
        "y_predict_train = model.predict(x_train_scaled)\n",
        "y_predict_test =  model.predict(x_test_scaled)"
      ],
      "metadata": {
        "id": "ByGHky0k5OMf"
      },
      "execution_count": 16,
      "outputs": []
    },
    {
      "cell_type": "code",
      "source": [
        "from sklearn.metrics import mean_absolute_error"
      ],
      "metadata": {
        "id": "_1Rvf-U15PCs"
      },
      "execution_count": 17,
      "outputs": []
    },
    {
      "cell_type": "code",
      "source": [
        "mae_train = mean_absolute_error(y_train, y_predict_train)\n",
        "print (\"mean_absolute_error on training set:\", round(mae_train, 3))"
      ],
      "metadata": {
        "colab": {
          "base_uri": "https://localhost:8080/"
        },
        "id": "9-Z_8r615ZE_",
        "outputId": "d4fe774d-bbcf-46d5-ea6f-a27a73cd9a62"
      },
      "execution_count": 19,
      "outputs": [
        {
          "output_type": "stream",
          "name": "stdout",
          "text": [
            "mean_absolute_error on training set: 53.743\n"
          ]
        }
      ]
    },
    {
      "cell_type": "code",
      "source": [
        "rmse_train = mean_squared_error(y_train, y_predict_train, squared=False)\n",
        "print (\"RMSE on training set:\", round(rmse_train, 3))"
      ],
      "metadata": {
        "colab": {
          "base_uri": "https://localhost:8080/"
        },
        "id": "OArjeo5354AJ",
        "outputId": "d6fa8243-f10c-496f-a587-b9562851de11"
      },
      "execution_count": 21,
      "outputs": [
        {
          "output_type": "stream",
          "name": "stdout",
          "text": [
            "RMSE on training set: 95.215\n"
          ]
        }
      ]
    },
    {
      "cell_type": "code",
      "source": [
        "mae_test = mean_absolute_error(x_train, y_predict_test)\n",
        "print (\"mean_absolute_error on test set:\", round(mae_test, 3))"
      ],
      "metadata": {
        "id": "pgRIDd7G7Gef"
      },
      "execution_count": null,
      "outputs": []
    },
    {
      "cell_type": "code",
      "source": [
        "rmse_test = mean_squared_error(y_test, y_predict_test, squared=False)\n",
        "print (\"RMSE on test set:\", round(rmse_test, 3))"
      ],
      "metadata": {
        "colab": {
          "base_uri": "https://localhost:8080/"
        },
        "id": "EXbNmLLj6wST",
        "outputId": "1cb5e65f-c204-4535-8725-9842609ae555"
      },
      "execution_count": 22,
      "outputs": [
        {
          "output_type": "stream",
          "name": "stdout",
          "text": [
            "RMSE on test set: 93.641\n"
          ]
        }
      ]
    },
    {
      "cell_type": "code",
      "source": [
        "params = {'alpha': [0.001, 0.01, 0.1, 1, 10, 100]}"
      ],
      "metadata": {
        "id": "VaWXmRoI8kup"
      },
      "execution_count": 25,
      "outputs": []
    },
    {
      "cell_type": "code",
      "source": [
        "from sklearn.linear_model import Ridge, Lasso, LinearRegression\n",
        "from sklearn.model_selection import train_test_split, GridSearchCV"
      ],
      "metadata": {
        "id": "4Jo6wjl29Gqg"
      },
      "execution_count": 29,
      "outputs": []
    },
    {
      "cell_type": "code",
      "source": [
        "ridge = Ridge()\n",
        "ridge_cv = GridSearchCV(ridge, params, cv=5)\n",
        "ridge_cv.fit(x_train_scaled, y_train)\n",
        "\n",
        "print(f\"Best alpha for Ridge: {ridge_cv.best_params_['alpha']}\")"
      ],
      "metadata": {
        "colab": {
          "base_uri": "https://localhost:8080/"
        },
        "id": "WTk3JjiF89Gh",
        "outputId": "b1b94042-c8ef-407d-a862-7990153456c5"
      },
      "execution_count": 30,
      "outputs": [
        {
          "output_type": "stream",
          "name": "stdout",
          "text": [
            "Best alpha for Ridge: 0.1\n"
          ]
        }
      ]
    },
    {
      "cell_type": "code",
      "source": [
        "# Train model with the best alpha param\n",
        "ridge_best = Ridge(alpha=ridge_cv.best_params_['alpha']).fit(x_train_scaled, y_train)"
      ],
      "metadata": {
        "id": "PbGaVX509Zaq"
      },
      "execution_count": 34,
      "outputs": []
    }
  ]
}